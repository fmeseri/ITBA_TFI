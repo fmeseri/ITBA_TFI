{
 "cells": [
  {
   "cell_type": "markdown",
   "metadata": {},
   "source": [
    "# PREDICCIONES ARIMA"
   ]
  },
  {
   "cell_type": "markdown",
   "metadata": {},
   "source": []
  },
  {
   "cell_type": "code",
   "execution_count": 15,
   "metadata": {},
   "outputs": [],
   "source": [
    "## Imports\n",
    "\n",
    "import json\n",
    "import pandas as pd\n",
    "import matplotlib.pyplot as plt\n",
    "import seaborn as sns\n",
    "import psycopg2\n",
    "import numpy as np\n",
    "from sklearn.cluster import KMeans\n",
    "from sklearn.preprocessing import StandardScaler\n",
    "from sklearn.ensemble import RandomForestClassifier\n",
    "from sklearn.model_selection import train_test_split\n",
    "from sklearn.metrics import accuracy_score\n",
    "from sklearn.linear_model import LinearRegression\n",
    "\n",
    "from statsmodels.tsa.arima.model import ARIMA\n",
    "from statsmodels.tsa.stattools import adfuller\n",
    "from statsmodels.graphics.tsaplots import plot_acf, plot_pacf\n",
    "\n",
    "\n",
    "\n",
    "from utils import read_table_into_dataframe\n",
    "from utils import create_table_pdf\n",
    "from utils import  dataframe_to_latex\n",
    "from utils import dataframe_to_image"
   ]
  },
  {
   "cell_type": "code",
   "execution_count": 2,
   "metadata": {},
   "outputs": [
    {
     "name": "stdout",
     "output_type": "stream",
     "text": [
      "Connected to: ('PostgreSQL 16.1, compiled by Visual C++ build 1937, 64-bit',)\n"
     ]
    }
   ],
   "source": [
    "### CONNECT TO POSTGRES DATABASE\n",
    "## AMBA\n",
    "\n",
    "import psycopg2\n",
    "\n",
    "# Establish connection parameters\n",
    "dbname = 'AMBA'\n",
    "user = 'postgres'\n",
    "password = 'Ferm1987'\n",
    "host = 'localhost'  # By default, localhost\n",
    "port = '5432'  # By default, 5432\n",
    "\n",
    "# Connect to the PostgreSQL database\n",
    "try:\n",
    "    conn = psycopg2.connect(\n",
    "        dbname=dbname,\n",
    "        user=user,\n",
    "        password=password,\n",
    "        host=host,\n",
    "        port=port\n",
    "    )\n",
    "\n",
    "    # Create a cursor object\n",
    "    cursor = conn.cursor()\n",
    "\n",
    "    # Execute a query\n",
    "    cursor.execute(\"SELECT version();\")\n",
    "    db_version = cursor.fetchone()\n",
    "    print(\"Connected to:\", db_version)\n",
    "\n",
    "    # Commit the transaction\n",
    "    conn.commit()\n",
    "\n",
    "except psycopg2.Error as e:\n",
    "    print(\"Error connecting to PostgreSQL:\", e)\n",
    "\n",
    "finally:\n",
    "    # Close the cursor and connection\n",
    "    if 'cursor' in locals() and cursor is not None:\n",
    "        cursor.close()\n",
    "    # if 'conn' in locals() and conn is not None:\n",
    "    #     conn.close()\n"
   ]
  },
  {
   "cell_type": "code",
   "execution_count": 6,
   "metadata": {},
   "outputs": [
    {
     "name": "stdout",
     "output_type": "stream",
     "text": [
      "                nam cod_depto  anio       pob       var       muj   vivpart  \\\n",
      "35  Almirante Brown     06028  1991  450698.0  222042.0  228656.0       NaN   \n",
      "33  Almirante Brown     06028  2010  552902.0  270247.0  282655.0  156218.0   \n",
      "32  Almirante Brown     06028  2022  585852.0  281842.0  301779.0  184403.0   \n",
      "34  Almirante Brown     06028  2001  515556.0  252454.0  263102.0  143543.0   \n",
      "94       Avellaneda     06035  2001  328980.0  155450.0  173530.0  117200.0   \n",
      "..              ...       ...   ...       ...       ...       ...       ...   \n",
      "75  Tres de Febrero     06840  1991  349376.0  167417.0  181959.0       NaN   \n",
      "6     Vicente López     06861  2001  274082.0  127238.0  146844.0  108947.0   \n",
      "4     Vicente López     06861  2022  283510.0  131723.0  149903.0  126139.0   \n",
      "7     Vicente López     06861  1991  289505.0  135426.0  154079.0       NaN   \n",
      "5     Vicente López     06861  2010  269420.0  125792.0  143628.0  114747.0   \n",
      "\n",
      "    vivtotal     sup ind_masc dens_pob  \n",
      "35       NaN  157.87     97.1  2854.87  \n",
      "33      78.0  157.87     95.6  3502.26  \n",
      "32      60.0  157.87     93.4  3710.98  \n",
      "34      88.0  157.87     96.0  3265.70  \n",
      "94      59.0   68.54     89.6  4799.82  \n",
      "..       ...     ...      ...      ...  \n",
      "75       NaN   55.29     92.0  6318.97  \n",
      "6       91.0   41.93     86.6  6536.66  \n",
      "4       88.0   41.93     87.9  6761.51  \n",
      "7        NaN   41.93     87.9  6904.48  \n",
      "5       72.0   41.93     87.6  6425.47  \n",
      "\n",
      "[96 rows x 11 columns]\n"
     ]
    }
   ],
   "source": [
    "# Read vCensosAmba\n",
    "df = read_table_into_dataframe('public.v_censos_amba')\n",
    "df=df.sort_values('nam')\n",
    "df.drop('Superficie', axis=1, inplace=True)\n",
    "if df is not None:\n",
    "    print(df)\n"
   ]
  },
  {
   "cell_type": "markdown",
   "metadata": {},
   "source": [
    "#### MERGE"
   ]
  },
  {
   "cell_type": "markdown",
   "metadata": {},
   "source": [
    "## ARIMA"
   ]
  },
  {
   "cell_type": "code",
   "execution_count": 13,
   "metadata": {},
   "outputs": [
    {
     "name": "stdout",
     "output_type": "stream",
     "text": [
      "Missing values:\n",
      " nam           0\n",
      "cod_depto     0\n",
      "anio          0\n",
      "pob           6\n",
      "var           6\n",
      "muj           6\n",
      "vivpart      24\n",
      "vivtotal     24\n",
      "sup           0\n",
      "ind_masc      6\n",
      "dens_pob      6\n",
      "dtype: int64\n",
      "Missing values:\n",
      " nam          0\n",
      "cod_depto    0\n",
      "anio         0\n",
      "pob          0\n",
      "var          0\n",
      "muj          0\n",
      "vivpart      0\n",
      "vivtotal     0\n",
      "sup          0\n",
      "ind_masc     0\n",
      "dens_pob     0\n",
      "dtype: int64\n"
     ]
    }
   ],
   "source": [
    "# Check for missing values\n",
    "missing_values = df.isna().sum()\n",
    "print(\"Missing values:\\n\", missing_values)\n",
    "\n",
    "df=df.dropna()\n",
    "\n",
    "# Check for missing values\n",
    "missing_values = df.isna().sum()\n",
    "print(\"Missing values:\\n\", missing_values)\n"
   ]
  },
  {
   "cell_type": "code",
   "execution_count": 14,
   "metadata": {},
   "outputs": [
    {
     "name": "stdout",
     "output_type": "stream",
     "text": [
      "ADF Statistic: -3.09238743146041\n",
      "p-value: 0.02712170602230532\n",
      "Series is stationary. No differencing needed.\n"
     ]
    }
   ],
   "source": [
    "\n",
    "\n",
    "# Load your data and set 'anio' as the index\n",
    "# df = ...\n",
    "\n",
    "# Check for stationarity\n",
    "result = adfuller(df['pob'])\n",
    "print('ADF Statistic:', result[0])\n",
    "print('p-value:', result[1])\n",
    "if result[1] > 0.05:\n",
    "    print('Series is not stationary. Perform differencing.')\n",
    "else:\n",
    "    print('Series is stationary. No differencing needed.')\n",
    "\n",
    "# If series is not stationary, perform differencing\n",
    "# df['pob_diff'] = df['pob'].diff().dropna()\n",
    "\n",
    "#Plot the data\n",
    "df['pob'].plot()\n",
    "\n",
    "#Determine ARIMA order (p, d, q) using ACF and PACF plots, or auto-arima functions\n",
    "\n",
    "# Fit ARIMA model\n",
    "# model = ARIMA(df['pob'], order=(p, d, q))\n",
    "# fitted_model = model.fit()\n",
    "\n",
    "# Make predictions\n",
    "# forecast = fitted_model.forecast(steps=...)  # Specify the number of future steps to forecast\n",
    "\n",
    "# Plot the forecasted values\n",
    "# plt.plot(df.index, df['pob'], label='Observed')\n",
    "# plt.plot(forecast.index, forecast, label='Forecast', color='red')\n",
    "# plt.xlabel('Year')\n",
    "# plt.ylabel('Population')\n",
    "# plt.title('ARIMA Population Forecast')\n",
    "# plt.legend()\n",
    "# plt.show()\n"
   ]
  },
  {
   "cell_type": "markdown",
   "metadata": {},
   "source": [
    "### Determine ARIMA order (p, d, q) using ACF and PACF plots, or auto-arima functions"
   ]
  },
  {
   "cell_type": "code",
   "execution_count": 16,
   "metadata": {},
   "outputs": [
    {
     "data": {
      "image/png": "[encoded data removed]",
      "text/plain": [
       "<Figure size 640x480 with 1 Axes>"
      ]
     },
     "metadata": {},
     "output_type": "display_data"
    },
    {
     "data": {
      "image/png": "[encoded data removed]",
      "text/plain": [
       "<Figure size 640x480 with 1 Axes>"
      ]
     },
     "metadata": {},
     "output_type": "display_data"
    }
   ],
   "source": [
    "#Determine ARIMA order (p, d, q) using ACF and PACF plots, or auto-arima functions\n",
    "# Plot ACF\n",
    "plot_acf(df['pob'], lags=20)\n",
    "plt.title('Autocorrelation Function (ACF)')\n",
    "plt.show()\n",
    "\n",
    "# Plot PACF\n",
    "plot_pacf(df['pob'], lags=20)\n",
    "plt.title('Partial Autocorrelation Function (PACF)')\n",
    "plt.show()\n"
   ]
  },
  {
   "cell_type": "code",
   "execution_count": null,
   "metadata": {},
   "outputs": [],
   "source": [
    "p=1\n",
    "d=0\n",
    "q=0\n",
    "\n",
    "#Fit ARIMA model\n",
    "model = ARIMA(df['pob'], order=(p, d, q))\n",
    "fitted_model = model.fit()\n",
    "\n",
    "#Make predictions\n",
    "forecast = fitted_model.forecast(steps=10)  # Specify the number of future steps to forecast\n",
    "\n",
    "#Plot the forecasted values\n",
    "plt.plot(df.index, df['pob'], label='Observed')\n",
    "plt.plot(forecast.index, forecast, label='Forecast', color='red')\n",
    "plt.xlabel('Year')\n",
    "plt.ylabel('Population')\n",
    "plt.title('ARIMA Population Forecast')\n",
    "plt.legend()\n",
    "plt.show()"
   ]
  },
  {
   "cell_type": "code",
   "execution_count": null,
   "metadata": {},
   "outputs": [],
   "source": [
    "\n",
    "\n",
    "def fit_arima(df, nam):\n",
    "    # Filter data for the specific 'nam' value\n",
    "    df_subset = df[df['nam'] == nam]\n",
    "    \n",
    "    # Check if there is sufficient data\n",
    "    if len(df_subset) < 2:\n",
    "        return None\n",
    "    \n",
    "    # Extract the 'anio' and 'pob' columns for ARIMA modeling\n",
    "    X = df_subset['anio']\n",
    "    y = df_subset['pob']\n",
    "    \n",
    "    # Fit ARIMA model with order (1, 0, 0)\n",
    "    model = ARIMA(y, order=(1, 0, 0))\n",
    "    model_fit = model.fit()\n",
    "    \n",
    "    return model_fit\n",
    "\n",
    "# Iterate over unique values in 'nam' column and fit ARIMA model\n",
    "arima_models = {}\n",
    "for nam in df['nam'].unique():\n",
    "    model_fit = fit_arima(df, nam)\n",
    "    if model_fit:\n",
    "        arima_models[nam] = model_fit\n",
    "        print(f\"ARIMA Model for {nam}:\")\n",
    "        print(model_fit.summary())"
   ]
  },
  {
   "cell_type": "code",
   "execution_count": null,
   "metadata": {},
   "outputs": [],
   "source": [
    "\n",
    "# Iterate over each ARIMA model and make predictions\n",
    "for nam, model_fit in arima_models.items():\n",
    "    # Make predictions for the next 2 steps (adjust as needed)\n",
    "    forecast = model_fit.forecast(steps=2)\n",
    "    \n",
    "    # Plot the observed data\n",
    "    plt.plot(df[df['nam'] == nam]['anio'], df[df['nam'] == nam]['pob'], label=f'Observed ({nam})')\n",
    "    \n",
    "    # Plot the forecasted values\n",
    "    plt.plot(df[df['nam'] == nam]['anio'].iloc[-1] + 1 + forecast.index, forecast, label=f'Forecast ({nam})', color='red')\n",
    "\n",
    "# Add labels and legend\n",
    "plt.xlabel('Year')\n",
    "plt.ylabel('Population')\n",
    "plt.title('ARIMA Population Forecast')\n",
    "plt.legend()\n",
    "plt.grid(True)\n",
    "plt.show()\n"
   ]
  },
  {
   "cell_type": "code",
   "execution_count": 24,
   "metadata": {},
   "outputs": [
    {
     "name": "stderr",
     "output_type": "stream",
     "text": [
      "c:\\Users\\Fer\\AppData\\Local\\Programs\\Python\\Python311\\Lib\\site-packages\\statsmodels\\tsa\\base\\tsa_model.py:473: ValueWarning: An unsupported index was provided and will be ignored when e.g. forecasting.\n",
      "  self._init_dates(dates, freq)\n",
      "c:\\Users\\Fer\\AppData\\Local\\Programs\\Python\\Python311\\Lib\\site-packages\\statsmodels\\tsa\\base\\tsa_model.py:473: ValueWarning: An unsupported index was provided and will be ignored when e.g. forecasting.\n",
      "  self._init_dates(dates, freq)\n",
      "c:\\Users\\Fer\\AppData\\Local\\Programs\\Python\\Python311\\Lib\\site-packages\\statsmodels\\tsa\\base\\tsa_model.py:473: ValueWarning: An unsupported index was provided and will be ignored when e.g. forecasting.\n",
      "  self._init_dates(dates, freq)\n",
      "c:\\Users\\Fer\\AppData\\Local\\Programs\\Python\\Python311\\Lib\\site-packages\\statsmodels\\tsa\\base\\tsa_model.py:836: ValueWarning: No supported index is available. Prediction results will be given with an integer index beginning at `start`.\n",
      "  return get_prediction_index(\n",
      "c:\\Users\\Fer\\AppData\\Local\\Programs\\Python\\Python311\\Lib\\site-packages\\statsmodels\\tsa\\base\\tsa_model.py:836: FutureWarning: No supported index is available. In the next version, calling this method in a model without a supported index will result in an exception.\n",
      "  return get_prediction_index(\n"
     ]
    },
    {
     "data": {
      "image/png": "[encoded data removed]",
      "text/plain": [
       "<Figure size 640x480 with 1 Axes>"
      ]
     },
     "metadata": {},
     "output_type": "display_data"
    }
   ],
   "source": [
    "# Filter the DataFrame to create a subset for \"La Matanza\"\n",
    "subset_df = df[df['nam'] == \"La Matanza\"]\n",
    "\n",
    "# Prepare the time series data\n",
    "time_series_data = subset_df.set_index('anio')['pob']\n",
    "\n",
    "# Fit an ARIMA model\n",
    "model = ARIMA(time_series_data, order=(1,0,0))  # Adjust the order as needed\n",
    "fitted_model = model.fit()\n",
    "\n",
    "# Forecast future values\n",
    "forecast = fitted_model.forecast(steps=5)  # Forecast 5 steps ahead\n",
    "\n",
    "# Plot the observed data and forecasted values\n",
    "plt.plot(time_series_data.index, time_series_data, label='Observed')\n",
    "plt.plot(forecast.index, forecast, label='Forecast', color='red', marker='o')\n",
    "plt.xlabel('Year')\n",
    "plt.ylabel('Population')\n",
    "plt.title('ARIMA Population Forecast for La Matanza')\n",
    "plt.legend()\n",
    "plt.grid(True)\n",
    "plt.show()\n"
   ]
  }
 ],
 "metadata": {
  "kernelspec": {
   "display_name": "Python 3",
   "language": "python",
   "name": "python3"
  },
  "language_info": {
   "codemirror_mode": {
    "name": "ipython",
    "version": 3
   },
   "file_extension": ".py",
   "mimetype": "text/x-python",
   "name": "python",
   "nbconvert_exporter": "python",
   "pygments_lexer": "ipython3",
   "version": "3.11.4"
  }
 },
 "nbformat": 4,
 "nbformat_minor": 2
}
